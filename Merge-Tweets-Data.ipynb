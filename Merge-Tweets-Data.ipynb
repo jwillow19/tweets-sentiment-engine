{
 "cells": [
  {
   "cell_type": "code",
   "execution_count": 1,
   "metadata": {},
   "outputs": [],
   "source": [
    "import spacy\n",
    "import tweepy\n",
    "import re\n",
    "\n",
    "import csv\n",
    "import ssl\n",
    "import time\n",
    "from requests.exceptions import Timeout, ConnectionError\n",
    "from requests.packages.urllib3.exceptions import ReadTimeoutError\n",
    "\n",
    "import numpy as np\n",
    "import pandas as pd\n",
    "\n",
    "from textblob import TextBlob\n",
    "from wordcloud import WordCloud\n",
    "\n",
    "import matplotlib.pyplot as plt"
   ]
  },
  {
   "cell_type": "markdown",
   "metadata": {},
   "source": [
    "### Get the Twitter API keys \n",
    "Authentication Object - OAuth to use TwitterAPI to access data "
   ]
  },
  {
   "cell_type": "code",
   "execution_count": 7,
   "metadata": {},
   "outputs": [],
   "source": [
    "from secrets import *\n",
    "# consumerKey\n",
    "# consumerSecret\n",
    "# accessToken\n",
    "# accessTokenSecret"
   ]
  },
  {
   "cell_type": "code",
   "execution_count": 9,
   "metadata": {},
   "outputs": [],
   "source": [
    "# Create OAuth and provide signiture\n",
    "auth = tweepy.OAuthHandler(consumerKey, consumerSecret)\n",
    "# Provide access token\n",
    "auth.set_access_token(accessToken, accessTokenSecret)\n",
    "# Create API object by passing in OAuth\n",
    "api = tweepy.API(auth_handler=auth, wait_on_rate_limit=True)"
   ]
  },
  {
   "cell_type": "markdown",
   "metadata": {},
   "source": [
    "## Compare Search-Tweet CSVs and return the union of the two CSVs "
   ]
  },
  {
   "cell_type": "code",
   "execution_count": 2,
   "metadata": {},
   "outputs": [],
   "source": [
    "def merge_tweets(main_csv, merge_csv):\n",
    "    \n",
    "    merge_tweets = []\n",
    "    \n",
    "    tweet_df = pd.read_csv(main_csv, sep=',')\n",
    "    tweet_ids = tweet_df['Tweet ID'].values\n",
    "    \n",
    "    with open(merge_csv, 'r') as csv_file:\n",
    "        csv_reader = csv.reader(csv_file)\n",
    "        next(csv_reader, None)\n",
    "        \n",
    "        for row in csv_reader:\n",
    "            if int(row[4]) not in tweet_ids:\n",
    "                merge_tweets.append(row)\n",
    "            pass\n",
    "    \n",
    "    print('Merging DataFrames...')\n",
    "    merge_df = pd.DataFrame(merge_tweets, columns=['Tweet Content', 'Date', 'User', 'Source', 'Tweet ID', 'Tweet URL'])\n",
    "    \n",
    "    print(f'Main CSV dimensions: {tweet_df.shape}')\n",
    "    print(f'New CSV dimensions: {merge_df.shape}')\n",
    "    \n",
    "    tweet_df = tweet_df.append(merge_df, ignore_index=False)\n",
    "    \n",
    "    print(f'Final CSV dimensions: {tweet_df.shape}')\n",
    "    tweet_df.to_csv('./dataset/main-trump-tweets.csv', sep=',')\n",
    "    \n",
    "    return tweet_df\n",
    "        "
   ]
  },
  {
   "cell_type": "code",
   "execution_count": 8,
   "metadata": {},
   "outputs": [
    {
     "name": "stdout",
     "output_type": "stream",
     "text": [
      "Merging DataFrames...\n",
      "Main CSV dimensions: (282, 11)\n",
      "New CSV dimensions: (0, 6)\n",
      "Final CSV dimensions: (282, 11)\n"
     ]
    }
   ],
   "source": [
    "main_csv = './dataset/main-trump-tweets.csv'\n",
    "merge_csv = './dataset/trump-tweets-2020-08-14.csv'\n",
    "\n",
    "\n",
    "main_df = merge_tweets(main_csv, merge_csv)"
   ]
  },
  {
   "cell_type": "markdown",
   "metadata": {},
   "source": [
    "# Data Log\n",
    "Merged: 08-11, 08-14\n",
    "to main-trump-tweets.csv"
   ]
  }
 ],
 "metadata": {
  "kernelspec": {
   "display_name": "Python 3",
   "language": "python",
   "name": "python3"
  },
  "language_info": {
   "codemirror_mode": {
    "name": "ipython",
    "version": 3
   },
   "file_extension": ".py",
   "mimetype": "text/x-python",
   "name": "python",
   "nbconvert_exporter": "python",
   "pygments_lexer": "ipython3",
   "version": "3.7.7"
  }
 },
 "nbformat": 4,
 "nbformat_minor": 4
}
